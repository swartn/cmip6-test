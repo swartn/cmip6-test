{
  "nbformat": 4,
  "nbformat_minor": 0,
  "metadata": {
    "colab": {
      "name": "cmip6_fgco2.ipynb",
      "provenance": [],
      "authorship_tag": "ABX9TyNPJ1z8fNHjRWp3AyIPJk8E",
      "include_colab_link": true
    },
    "kernelspec": {
      "name": "python3",
      "display_name": "Python 3"
    }
  },
  "cells": [
    {
      "cell_type": "markdown",
      "metadata": {
        "id": "view-in-github",
        "colab_type": "text"
      },
      "source": [
        "<a href=\"https://colab.research.google.com/github/swartn/cmip6-test/blob/master/cmip6_fgco2.ipynb\" target=\"_parent\"><img src=\"https://colab.research.google.com/assets/colab-badge.svg\" alt=\"Open In Colab\"/></a>"
      ]
    },
    {
      "cell_type": "code",
      "metadata": {
        "id": "CqLC_dmYGY7I",
        "colab_type": "code",
        "outputId": "86fb6b00-cf7e-40fc-aa1a-071d9a142ebb",
        "colab": {
          "base_uri": "https://localhost:8080/",
          "height": 1000
        }
      },
      "source": [
        "#Environment setup\n",
        "! pip install --upgrade xarray zarr gcsfs cftime nc-time-axis bokeh intake-esm cmip6_preprocessing "
      ],
      "execution_count": 2,
      "outputs": [
        {
          "output_type": "stream",
          "text": [
            "Collecting xarray\n",
            "\u001b[?25l  Downloading https://files.pythonhosted.org/packages/e3/25/cc8ccc40d21638ae8514ce2aef1f1db3036e31c2adea797c7501302726fa/xarray-0.15.0-py3-none-any.whl (650kB)\n",
            "\u001b[K     |████████████████████████████████| 655kB 2.8MB/s \n",
            "\u001b[?25hCollecting zarr\n",
            "\u001b[?25l  Downloading https://files.pythonhosted.org/packages/a3/87/383d77399148ef0772da3472b513ecf143252e7c365c51b0f06714800366/zarr-2.4.0.tar.gz (3.3MB)\n",
            "\u001b[K     |████████████████████████████████| 3.3MB 53.9MB/s \n",
            "\u001b[?25hCollecting gcsfs\n",
            "  Downloading https://files.pythonhosted.org/packages/3e/9f/864a9ff497ed4ba12502c4037db8c66fde0049d9dd0388bd55b67e5c4249/gcsfs-0.6.0-py2.py3-none-any.whl\n",
            "Collecting cftime\n",
            "\u001b[?25l  Downloading https://files.pythonhosted.org/packages/53/35/e2fc52247871c51590d6660e684fdc619a93a29f40e3b64894bd4f8c9041/cftime-1.1.0-cp36-cp36m-manylinux1_x86_64.whl (316kB)\n",
            "\u001b[K     |████████████████████████████████| 317kB 50.4MB/s \n",
            "\u001b[?25hCollecting nc-time-axis\n",
            "  Downloading https://files.pythonhosted.org/packages/47/2b/4a0681fd7178caa106f5f480217b9381ba77f8f7c8c1e63e91b0fd2cc427/nc_time_axis-1.2.0-py3-none-any.whl\n",
            "Requirement already up-to-date: bokeh in /usr/local/lib/python3.6/dist-packages (1.4.0)\n",
            "Collecting intake-esm\n",
            "  Downloading https://files.pythonhosted.org/packages/07/84/76cffc7f36433b68f9ee9311df7746d98aa124a29659155256e9a626e18f/intake_esm-2019.12.13-py3-none-any.whl\n",
            "Collecting cmip6_preprocessing\n",
            "  Downloading https://files.pythonhosted.org/packages/57/80/46a153e4428fa65542e15be41c2e45a5680dc388ef5eb7b4185ed2bf092c/cmip6_preprocessing-0.1.2-py2.py3-none-any.whl\n",
            "Requirement already satisfied, skipping upgrade: numpy>=1.15 in /usr/local/lib/python3.6/dist-packages (from xarray) (1.17.5)\n",
            "Requirement already satisfied, skipping upgrade: pandas>=0.25 in /usr/local/lib/python3.6/dist-packages (from xarray) (0.25.3)\n",
            "Collecting asciitree\n",
            "  Downloading https://files.pythonhosted.org/packages/2d/6a/885bc91484e1aa8f618f6f0228d76d0e67000b0fdd6090673b777e311913/asciitree-0.3.3.tar.gz\n",
            "Collecting fasteners\n",
            "  Downloading https://files.pythonhosted.org/packages/18/bd/55eb2d6397b9c0e263af9d091ebdb756b15756029b3cededf6461481bc63/fasteners-0.15-py2.py3-none-any.whl\n",
            "Collecting numcodecs>=0.6.4\n",
            "\u001b[?25l  Downloading https://files.pythonhosted.org/packages/53/2a/1dc435cbd1d082827190a3e46168fd04f74e266e91313969d5a1aab601bf/numcodecs-0.6.4.tar.gz (3.8MB)\n",
            "\u001b[K     |████████████████████████████████| 3.8MB 45.2MB/s \n",
            "\u001b[?25hRequirement already satisfied, skipping upgrade: decorator in /usr/local/lib/python3.6/dist-packages (from gcsfs) (4.4.1)\n",
            "Requirement already satisfied, skipping upgrade: google-auth-oauthlib in /usr/local/lib/python3.6/dist-packages (from gcsfs) (0.4.1)\n",
            "Requirement already satisfied, skipping upgrade: fsspec>=0.6.0 in /usr/local/lib/python3.6/dist-packages (from gcsfs) (0.6.2)\n",
            "Requirement already satisfied, skipping upgrade: requests in /usr/local/lib/python3.6/dist-packages (from gcsfs) (2.21.0)\n",
            "Requirement already satisfied, skipping upgrade: google-auth>=1.2 in /usr/local/lib/python3.6/dist-packages (from gcsfs) (1.7.2)\n",
            "Requirement already satisfied, skipping upgrade: six in /usr/local/lib/python3.6/dist-packages (from nc-time-axis) (1.12.0)\n",
            "Requirement already satisfied, skipping upgrade: matplotlib in /usr/local/lib/python3.6/dist-packages (from nc-time-axis) (3.1.3)\n",
            "Requirement already satisfied, skipping upgrade: Jinja2>=2.7 in /usr/local/lib/python3.6/dist-packages (from bokeh) (2.11.1)\n",
            "Requirement already satisfied, skipping upgrade: python-dateutil>=2.1 in /usr/local/lib/python3.6/dist-packages (from bokeh) (2.6.1)\n",
            "Requirement already satisfied, skipping upgrade: pillow>=4.0 in /usr/local/lib/python3.6/dist-packages (from bokeh) (6.2.2)\n",
            "Requirement already satisfied, skipping upgrade: packaging>=16.8 in /usr/local/lib/python3.6/dist-packages (from bokeh) (20.1)\n",
            "Requirement already satisfied, skipping upgrade: tornado>=4.3 in /usr/local/lib/python3.6/dist-packages (from bokeh) (4.5.3)\n",
            "Requirement already satisfied, skipping upgrade: PyYAML>=3.10 in /usr/local/lib/python3.6/dist-packages (from bokeh) (3.13)\n",
            "Requirement already satisfied, skipping upgrade: s3fs in /usr/local/lib/python3.6/dist-packages (from intake-esm) (0.4.0)\n",
            "Collecting intake-xarray>=0.3.1\n",
            "\u001b[?25l  Downloading https://files.pythonhosted.org/packages/81/a9/bf4afb9f6c7c3349c8ed10ccb8d23fbdb186ab84379f570235d405fca738/intake-xarray-0.3.1.tar.gz (40kB)\n",
            "\u001b[K     |████████████████████████████████| 40kB 4.4MB/s \n",
            "\u001b[?25hRequirement already satisfied, skipping upgrade: pytz>=2017.2 in /usr/local/lib/python3.6/dist-packages (from pandas>=0.25->xarray) (2018.9)\n",
            "Collecting monotonic>=0.1\n",
            "  Downloading https://files.pythonhosted.org/packages/ac/aa/063eca6a416f397bd99552c534c6d11d57f58f2e94c14780f3bbf818c4cf/monotonic-1.5-py2.py3-none-any.whl\n",
            "Requirement already satisfied, skipping upgrade: requests-oauthlib>=0.7.0 in /usr/local/lib/python3.6/dist-packages (from google-auth-oauthlib->gcsfs) (1.3.0)\n",
            "Requirement already satisfied, skipping upgrade: certifi>=2017.4.17 in /usr/local/lib/python3.6/dist-packages (from requests->gcsfs) (2019.11.28)\n",
            "Requirement already satisfied, skipping upgrade: urllib3<1.25,>=1.21.1 in /usr/local/lib/python3.6/dist-packages (from requests->gcsfs) (1.24.3)\n",
            "Requirement already satisfied, skipping upgrade: idna<2.9,>=2.5 in /usr/local/lib/python3.6/dist-packages (from requests->gcsfs) (2.8)\n",
            "Requirement already satisfied, skipping upgrade: chardet<3.1.0,>=3.0.2 in /usr/local/lib/python3.6/dist-packages (from requests->gcsfs) (3.0.4)\n",
            "Requirement already satisfied, skipping upgrade: cachetools<3.2,>=2.0.0 in /usr/local/lib/python3.6/dist-packages (from google-auth>=1.2->gcsfs) (3.1.1)\n",
            "Requirement already satisfied, skipping upgrade: rsa<4.1,>=3.1.4 in /usr/local/lib/python3.6/dist-packages (from google-auth>=1.2->gcsfs) (4.0)\n",
            "Requirement already satisfied, skipping upgrade: pyasn1-modules>=0.2.1 in /usr/local/lib/python3.6/dist-packages (from google-auth>=1.2->gcsfs) (0.2.8)\n",
            "Requirement already satisfied, skipping upgrade: setuptools>=40.3.0 in /usr/local/lib/python3.6/dist-packages (from google-auth>=1.2->gcsfs) (45.2.0)\n",
            "Requirement already satisfied, skipping upgrade: pyparsing!=2.0.4,!=2.1.2,!=2.1.6,>=2.0.1 in /usr/local/lib/python3.6/dist-packages (from matplotlib->nc-time-axis) (2.4.6)\n",
            "Requirement already satisfied, skipping upgrade: cycler>=0.10 in /usr/local/lib/python3.6/dist-packages (from matplotlib->nc-time-axis) (0.10.0)\n",
            "Requirement already satisfied, skipping upgrade: kiwisolver>=1.0.1 in /usr/local/lib/python3.6/dist-packages (from matplotlib->nc-time-axis) (1.1.0)\n",
            "Requirement already satisfied, skipping upgrade: MarkupSafe>=0.23 in /usr/local/lib/python3.6/dist-packages (from Jinja2>=2.7->bokeh) (1.1.1)\n",
            "Requirement already satisfied, skipping upgrade: boto3>=1.9.91 in /usr/local/lib/python3.6/dist-packages (from s3fs->intake-esm) (1.11.15)\n",
            "Requirement already satisfied, skipping upgrade: botocore>=1.12.91 in /usr/local/lib/python3.6/dist-packages (from s3fs->intake-esm) (1.14.15)\n",
            "Collecting intake>=0.5.2\n",
            "\u001b[?25l  Downloading https://files.pythonhosted.org/packages/de/a3/51552974693e0d518cae37cd0ec0216426a39ef2b2c3015e413c5d7204f0/intake-0.5.4.tar.gz (3.1MB)\n",
            "\u001b[K     |████████████████████████████████| 3.1MB 32.1MB/s \n",
            "\u001b[?25hRequirement already satisfied, skipping upgrade: dask>=2.2 in /usr/local/lib/python3.6/dist-packages (from intake-xarray>=0.3.1->intake-esm) (2.9.2)\n",
            "Collecting netcdf4\n",
            "\u001b[?25l  Downloading https://files.pythonhosted.org/packages/35/4f/d49fe0c65dea4d2ebfdc602d3e3d2a45a172255c151f4497c43f6d94a5f6/netCDF4-1.5.3-cp36-cp36m-manylinux1_x86_64.whl (4.1MB)\n",
            "\u001b[K     |████████████████████████████████| 4.1MB 26.4MB/s \n",
            "\u001b[?25hRequirement already satisfied, skipping upgrade: oauthlib>=3.0.0 in /usr/local/lib/python3.6/dist-packages (from requests-oauthlib>=0.7.0->google-auth-oauthlib->gcsfs) (3.1.0)\n",
            "Requirement already satisfied, skipping upgrade: pyasn1>=0.1.3 in /usr/local/lib/python3.6/dist-packages (from rsa<4.1,>=3.1.4->google-auth>=1.2->gcsfs) (0.4.8)\n",
            "Requirement already satisfied, skipping upgrade: s3transfer<0.4.0,>=0.3.0 in /usr/local/lib/python3.6/dist-packages (from boto3>=1.9.91->s3fs->intake-esm) (0.3.3)\n",
            "Requirement already satisfied, skipping upgrade: jmespath<1.0.0,>=0.7.1 in /usr/local/lib/python3.6/dist-packages (from boto3>=1.9.91->s3fs->intake-esm) (0.9.4)\n",
            "Requirement already satisfied, skipping upgrade: docutils<0.16,>=0.10 in /usr/local/lib/python3.6/dist-packages (from botocore>=1.12.91->s3fs->intake-esm) (0.15.2)\n",
            "Collecting appdirs\n",
            "  Downloading https://files.pythonhosted.org/packages/56/eb/810e700ed1349edde4cbdc1b2a21e28cdf115f9faf263f6bbf8447c1abf3/appdirs-1.4.3-py2.py3-none-any.whl\n",
            "Requirement already satisfied, skipping upgrade: entrypoints in /usr/local/lib/python3.6/dist-packages (from intake>=0.5.2->intake-xarray>=0.3.1->intake-esm) (0.3)\n",
            "Requirement already satisfied, skipping upgrade: msgpack in /usr/local/lib/python3.6/dist-packages (from intake>=0.5.2->intake-xarray>=0.3.1->intake-esm) (0.5.6)\n",
            "Building wheels for collected packages: zarr, asciitree, numcodecs, intake-xarray, intake\n",
            "  Building wheel for zarr (setup.py) ... \u001b[?25l\u001b[?25hdone\n",
            "  Created wheel for zarr: filename=zarr-2.4.0-cp36-none-any.whl size=127066 sha256=e48acfec19ffbe7df23d540d6c079668de0c1c6d56dd21b7de4235ede4ab5ce2\n",
            "  Stored in directory: /root/.cache/pip/wheels/e1/5b/25/24c685604b91139aba00a5b6299b53e7a0661f737f27782559\n",
            "  Building wheel for asciitree (setup.py) ... \u001b[?25l\u001b[?25hdone\n",
            "  Created wheel for asciitree: filename=asciitree-0.3.3-cp36-none-any.whl size=5037 sha256=d873b67a21f928bd5d8f4883c980eb2807e80b381db822db43b800c4bb08aafa\n",
            "  Stored in directory: /root/.cache/pip/wheels/1d/d9/58/9808b306744df0208fccc640d3d9952a5bc7468502d42897d5\n",
            "  Building wheel for numcodecs (setup.py) ... \u001b[?25l\u001b[?25hdone\n",
            "  Created wheel for numcodecs: filename=numcodecs-0.6.4-cp36-cp36m-linux_x86_64.whl size=3886676 sha256=cd915a0acc9b1991151f20e028a96702af98f55bcdf6927a36c7dc1b9cbcd7d5\n",
            "  Stored in directory: /root/.cache/pip/wheels/ca/07/ed/fea2e120cbb91d90b577c5ac56b4b082024f56fcd88e9afa55\n",
            "  Building wheel for intake-xarray (setup.py) ... \u001b[?25l\u001b[?25hdone\n",
            "  Created wheel for intake-xarray: filename=intake_xarray-0.3.1-cp36-none-any.whl size=20411 sha256=9192de2132613570665d75d0627e7a0e25a53b69ae690b91240f3119607742f9\n",
            "  Stored in directory: /root/.cache/pip/wheels/8f/46/f1/cca5319512e892249f165f5eba9dfaa0f9bf4c8a2c0c13376f\n",
            "  Building wheel for intake (setup.py) ... \u001b[?25l\u001b[?25hdone\n",
            "  Created wheel for intake: filename=intake-0.5.4-cp36-none-any.whl size=1457185 sha256=fdf40c181c2500719e994984d125caebebbd1939e638f4d688577ec2152a66bd\n",
            "  Stored in directory: /root/.cache/pip/wheels/ac/90/37/b2aac45ddc4463e6809a10e4c8f3d579a9729ee3d4cb924203\n",
            "Successfully built zarr asciitree numcodecs intake-xarray intake\n",
            "Installing collected packages: xarray, asciitree, monotonic, fasteners, numcodecs, zarr, gcsfs, cftime, nc-time-axis, appdirs, intake, netcdf4, intake-xarray, intake-esm, cmip6-preprocessing\n",
            "  Found existing installation: xarray 0.14.1\n",
            "    Uninstalling xarray-0.14.1:\n",
            "      Successfully uninstalled xarray-0.14.1\n",
            "Successfully installed appdirs-1.4.3 asciitree-0.3.3 cftime-1.1.0 cmip6-preprocessing-0.1.2 fasteners-0.15 gcsfs-0.6.0 intake-0.5.4 intake-esm-2019.12.13 intake-xarray-0.3.1 monotonic-1.5 nc-time-axis-1.2.0 netcdf4-1.5.3 numcodecs-0.6.4 xarray-0.15.0 zarr-2.4.0\n"
          ],
          "name": "stdout"
        }
      ]
    },
    {
      "cell_type": "code",
      "metadata": {
        "id": "vE-pWRY8cgZG",
        "colab_type": "code",
        "outputId": "fd1648e9-9337-40a7-9228-3df08d13663b",
        "colab": {
          "base_uri": "https://localhost:8080/",
          "height": 918
        }
      },
      "source": [
        "!wget https://repo.continuum.io/miniconda/Miniconda3-4.5.4-Linux-x86_64.sh\n",
        "!chmod +x Miniconda3-4.5.4-Linux-x86_64.sh\n",
        "!bash ./Miniconda3-4.5.4-Linux-x86_64.sh -b -f -p /usr/local"
      ],
      "execution_count": 3,
      "outputs": [
        {
          "output_type": "stream",
          "text": [
            "--2020-03-06 05:28:52--  https://repo.continuum.io/miniconda/Miniconda3-4.5.4-Linux-x86_64.sh\n",
            "Resolving repo.continuum.io (repo.continuum.io)... 104.18.200.79, 104.18.201.79, 2606:4700::6812:c84f, ...\n",
            "Connecting to repo.continuum.io (repo.continuum.io)|104.18.200.79|:443... connected.\n",
            "HTTP request sent, awaiting response... 200 OK\n",
            "Length: 58468498 (56M) [application/x-sh]\n",
            "Saving to: ‘Miniconda3-4.5.4-Linux-x86_64.sh’\n",
            "\n",
            "\r          Miniconda   0%[                    ]       0  --.-KB/s               \r         Miniconda3  56%[==========>         ]  31.24M   156MB/s               \rMiniconda3-4.5.4-Li 100%[===================>]  55.76M   183MB/s    in 0.3s    \n",
            "\n",
            "2020-03-06 05:28:52 (183 MB/s) - ‘Miniconda3-4.5.4-Linux-x86_64.sh’ saved [58468498/58468498]\n",
            "\n",
            "PREFIX=/usr/local\n",
            "installing: python-3.6.5-hc3d631a_2 ...\n",
            "Python 3.6.5 :: Anaconda, Inc.\n",
            "installing: ca-certificates-2018.03.07-0 ...\n",
            "installing: conda-env-2.6.0-h36134e3_1 ...\n",
            "installing: libgcc-ng-7.2.0-hdf63c60_3 ...\n",
            "installing: libstdcxx-ng-7.2.0-hdf63c60_3 ...\n",
            "installing: libffi-3.2.1-hd88cf55_4 ...\n",
            "installing: ncurses-6.1-hf484d3e_0 ...\n",
            "installing: openssl-1.0.2o-h20670df_0 ...\n",
            "installing: tk-8.6.7-hc745277_3 ...\n",
            "installing: xz-5.2.4-h14c3975_4 ...\n",
            "installing: yaml-0.1.7-had09818_2 ...\n",
            "installing: zlib-1.2.11-ha838bed_2 ...\n",
            "installing: libedit-3.1.20170329-h6b74fdf_2 ...\n",
            "installing: readline-7.0-ha6073c6_4 ...\n",
            "installing: sqlite-3.23.1-he433501_0 ...\n",
            "installing: asn1crypto-0.24.0-py36_0 ...\n",
            "installing: certifi-2018.4.16-py36_0 ...\n",
            "installing: chardet-3.0.4-py36h0f667ec_1 ...\n",
            "installing: idna-2.6-py36h82fb2a8_1 ...\n",
            "installing: pycosat-0.6.3-py36h0a5515d_0 ...\n",
            "installing: pycparser-2.18-py36hf9f622e_1 ...\n",
            "installing: pysocks-1.6.8-py36_0 ...\n",
            "installing: ruamel_yaml-0.15.37-py36h14c3975_2 ...\n",
            "installing: six-1.11.0-py36h372c433_1 ...\n",
            "installing: cffi-1.11.5-py36h9745a5d_0 ...\n",
            "installing: setuptools-39.2.0-py36_0 ...\n",
            "installing: cryptography-2.2.2-py36h14c3975_0 ...\n",
            "installing: wheel-0.31.1-py36_0 ...\n",
            "installing: pip-10.0.1-py36_0 ...\n",
            "installing: pyopenssl-18.0.0-py36_0 ...\n",
            "installing: urllib3-1.22-py36hbe7ace6_0 ...\n",
            "installing: requests-2.18.4-py36he2e5f8d_1 ...\n",
            "installing: conda-4.5.4-py36_0 ...\n",
            "installation finished.\n",
            "WARNING:\n",
            "    You currently have a PYTHONPATH environment variable set. This may cause\n",
            "    unexpected behavior when running the Python interpreter in Miniconda3.\n",
            "    For best results, please verify that your PYTHONPATH only points to\n",
            "    directories of packages that are compatible with the Python interpreter\n",
            "    in Miniconda3: /usr/local\n"
          ],
          "name": "stdout"
        }
      ]
    },
    {
      "cell_type": "code",
      "metadata": {
        "id": "0Dmwx253bmU8",
        "colab_type": "code",
        "outputId": "23375159-cc52-44a5-d0e7-709e729c60bb",
        "colab": {
          "base_uri": "https://localhost:8080/",
          "height": 46
        }
      },
      "source": [
        "!conda install -y -c conda-forge esmpy=7.1.0 xesmf"
      ],
      "execution_count": 0,
      "outputs": [
        {
          "output_type": "stream",
          "text": [
            "Solving environment: - \b\b\\ \b\b| \b\b/ \b\b- \b\b\\ \b\b| \b\b/ \b\b- \b\b\\ \b\b| \b\b/ \b\b- \b\b\\ \b\b| \b\b/ \b\b- \b\b\\ \b\b| \b\b/ \b\b- \b\b\\ \b\b| \b\b/ \b\b- \b\b\\ \b\b| \b\b/ \b\b- \b\b\\ \b\b| \b\b/ \b\b- \b\b\\ \b\b| \b\b/ \b\b- \b\b\\ \b\b| \b\b/ \b\b- \b\b\\ \b\b| \b\b/ \b\b- \b\b\\ \b\b| \b\b/ \b\b- \b\b\\ \b\b| \b\b/ \b\b- \b\b\\ \b\b| \b\b/ \b\b- \b\b\\ \b\b| \b\b/ \b\b- \b\b\\ \b\b| \b\b/ \b\b- \b\b\\ \b\b| \b\b/ \b\b- \b\b\\ \b\b| \b\b/ \b\b- \b\b\\ \b\b| \b\b/ \b\b- \b\b\\ \b\b| \b\b/ \b\b- \b\b\\ \b\b| \b\b/ \b\b- \b\b\\ \b\b| \b\b/ \b\b- \b\b\\ \b\b| \b\b/ \b\b- \b\b\\ \b\b| \b\b/ \b\b- \b\b\\ \b\b| \b\b/ \b\b- \b\b\\ \b\b| \b\b/ \b\b- \b\b\\ \b\b| \b\b/ \b\b- \b\b\\ \b\b| \b\b/ \b\b- \b\b\\ \b\b| \b\b/ \b\b- \b\b\\ \b\b| \b\b/ \b\b- \b\b\\ \b\b| \b\b/ \b\b- \b\b\\ \b\b| \b\b/ \b\b- \b\b\\ \b\b| \b\b/ \b\b- \b\b\\ \b\b| \b\b/ \b\b- \b\b\\ \b\b| \b\b/ \b\b- \b\b\\ \b\b| \b\b/ \b\b- \b\b\\ \b\b| \b\b/ \b\b- \b\b\\ \b\b| \b\b/ \b\b- \b\b\\ \b\b| \b\b/ \b\b- \b\b\\ \b\b| \b\b/ \b\b- \b\b\\ \b\b| \b\b/ \b\b- \b\b\\ \b\b| \b\b/ \b\b- \b\b\\ \b\b| \b\b/ \b\b- \b\b\\ \b\b| \b\b/ \b\b- \b\b\\ \b\b| \b\b/ \b\b- \b\b\\ \b\b| \b\b/ \b\b- \b\b\\ \b\b| \b\b/ \b\b- \b\b\\ \b\b| \b\b/ \b\b- \b\b\\ \b\b| \b\b/ \b\b- \b\b\\ \b\b| \b\b/ \b\b- \b\b\\ \b\b| \b\b/ \b\b- \b\b\\ \b\b| \b\b/ \b\b- \b\b\\ \b\b| \b\b/ \b\b- \b\b\\ \b\b| \b\b/ \b\b- \b\b\\ \b\b| \b\b/ \b\b- \b\b\\ \b\b| \b\b/ \b\b- \b\b\\ \b\b| \b\b/ \b\b- \b\b\\ \b\b| \b\b/ \b\b- \b\b\\ \b\b| \b\b/ \b\b- \b\b\\ \b\b| \b\b/ \b\b- \b\b\\ \b\b| \b\b/ \b\b- \b\b\\ \b\b| \b\b/ \b\b- \b\b\\ \b\b| \b\b/ \b\b- \b\b\\ \b\b| \b\b/ \b\b- \b\b\\ \b\b| \b\b/ \b\b- \b\b\\ \b\b| \b\b/ \b\b- \b\b\\ \b\b| \b\b/ \b\b- \b\b\\ \b\b| \b\b/ \b\b- \b\b\\ \b\b| \b\b/ \b\b- \b\b\\ \b\b| \b\b/ \b\b- \b\b\\ \b\b| \b\b/ \b\b- \b\b\\ \b\b| \b\b/ \b\b- \b\b\\ \b\b| \b\b/ \b\b- \b\b\\ \b\b| \b\b/ \b\b- \b\b\\ \b\b| \b\b/ \b\b- \b\b\\ \b\b| \b\b/ \b\b- \b\b\\ \b\b| \b\b/ \b\b- \b\b\\ \b\b| \b\b/ \b\b- \b\b\\ \b\b| \b\b/ \b\b- \b\b\\ \b\b| \b\b/ \b\b- \b\b\\ \b\b| \b\b/ \b\b- \b\b\\ \b\b| \b\b/ \b\b- \b\b\\ \b\b| \b\b/ \b\b- \b\b\\ \b\b| \b\b/ \b\b- \b\b\\ \b\b| \b\b/ \b\b- \b\b\\ \b\b| \b\b/ \b\b- \b\b\\ \b\b| \b\b/ \b\b- \b\b\\ \b\b| \b\b/ \b\b- \b\b\\ \b\b| \b\b/ \b\b- \b\b\\ \b\b| \b\b/ \b\b- \b\b\\ \b\b| \b\b/ \b\b- \b\b\\ \b\b| \b\b/ \b\b- \b\b\\ \b\b| \b\b/ \b\b- \b\b\\ \b\b| "
          ],
          "name": "stdout"
        }
      ]
    },
    {
      "cell_type": "code",
      "metadata": {
        "id": "8CRYK9etf_-X",
        "colab_type": "code",
        "colab": {}
      },
      "source": [
        "import sys\n",
        "sys.path.append('/usr/local/lib/python3.8/site-packages')"
      ],
      "execution_count": 0,
      "outputs": []
    },
    {
      "cell_type": "code",
      "metadata": {
        "id": "_Ki2P6IWGUNp",
        "colab_type": "code",
        "colab": {}
      },
      "source": [
        "import numpy as np\n",
        "import pandas as pd\n",
        "import xarray as xr\n",
        "import warnings\n",
        "import matplotlib.pyplot as plt\n",
        "import gcsfs\n",
        "import intake\n",
        "import xesmf as xe\n",
        "%matplotlib inline"
      ],
      "execution_count": 0,
      "outputs": []
    },
    {
      "cell_type": "code",
      "metadata": {
        "id": "bH1MV5frJFXW",
        "colab_type": "code",
        "colab": {}
      },
      "source": [
        "cat_url = \"https://storage.googleapis.com/cmip6/pangeo-cmip6.json\"\n",
        "col = intake.open_esm_datastore(cat_url)\n",
        "col"
      ],
      "execution_count": 0,
      "outputs": []
    },
    {
      "cell_type": "code",
      "metadata": {
        "id": "XcGiU3vXRryi",
        "colab_type": "code",
        "colab": {}
      },
      "source": [
        "from cmip6_preprocessing.preprocessing import combined_preprocessing, replace_x_y_nominal_lat_lon, rename_cmip6\n",
        "\n",
        "def wrapper(ds):\n",
        "    ds = ds.copy()\n",
        "    ds = rename_cmip6(ds)\n",
        "    ds = replace_x_y_nominal_lat_lon(ds)\n",
        "    return ds"
      ],
      "execution_count": 0,
      "outputs": []
    },
    {
      "cell_type": "code",
      "metadata": {
        "id": "l1tXYUI8KjE0",
        "colab_type": "code",
        "colab": {}
      },
      "source": [
        "\n",
        "# lets load a bunch more models this time\n",
        "# load a few models to illustrate the problem\n",
        "query = dict(experiment_id=['ssp585', 'historical'], table_id='Omon', \n",
        "             variable_id='fgco2', grid_label=['gn'], member_id=['r1i1p1f1', 'r1i1p2f1'])\n",
        "cat = col.search(**query)\n",
        "\n",
        "print(cat.df['source_id'].unique())\n",
        "dset_dict = cat.to_dataset_dict(zarr_kwargs={'consolidated': True}, preprocess=combined_preprocessing)"
      ],
      "execution_count": 0,
      "outputs": []
    },
    {
      "cell_type": "code",
      "metadata": {
        "id": "YJPxP-FhWHZt",
        "colab_type": "code",
        "colab": {}
      },
      "source": [
        "ssp585_dict = {} # dictionary that will hold spliced DataArrays\n",
        "for name, ds in dset_dict.items(): # Loop through dictionary\n",
        "    model_name = name.split(\".\")[2]\n",
        "    if ('ssp585' not in name): continue\n",
        "    ssp585_dict[model_name] = ds\n",
        "\n",
        "his_dict = {} # dictionary that will hold spliced DataArrays\n",
        "for name, ds in dset_dict.items(): # Loop through dictionary\n",
        "    model_name = name.split(\".\")[2]\n",
        "    if ('historical' not in name) or (model_name not in ssp585_dict.keys()): continue\n",
        "    his_dict[model_name] = ds"
      ],
      "execution_count": 0,
      "outputs": []
    },
    {
      "cell_type": "code",
      "metadata": {
        "id": "hyLjWvK_WeNs",
        "colab_type": "code",
        "colab": {}
      },
      "source": [
        "print(his_dict.keys())\n",
        "print(ssp585_dict.keys())"
      ],
      "execution_count": 0,
      "outputs": []
    },
    {
      "cell_type": "code",
      "metadata": {
        "id": "VEgT1gopi6Bl",
        "colab_type": "code",
        "colab": {}
      },
      "source": [
        "# setup a common 1 degree global grid \n",
        "ds_out = xe.util.grid_global(1, 1)\n",
        "ds_out "
      ],
      "execution_count": 0,
      "outputs": []
    },
    {
      "cell_type": "code",
      "metadata": {
        "id": "heuyP4aY1Ajs",
        "colab_type": "code",
        "colab": {}
      },
      "source": [
        "kgs_to_molyr=1000./12.*3600*24*365"
      ],
      "execution_count": 0,
      "outputs": []
    },
    {
      "cell_type": "code",
      "metadata": {
        "id": "5Uc2GBdNYzCZ",
        "colab_type": "code",
        "colab": {}
      },
      "source": [
        "his_dict['ACCESS-ESM1-5']['fgco2']"
      ],
      "execution_count": 0,
      "outputs": []
    },
    {
      "cell_type": "code",
      "metadata": {
        "id": "L-qmxxI_ngeg",
        "colab_type": "code",
        "colab": {}
      },
      "source": [
        " rm_his_dict = {}\n",
        "for name, ds in his_dict.items():\n",
        "    print(name)\n",
        "    regridder = xe.Regridder(ds, ds_out, 'bilinear', ignore_degenerate=True)\n",
        "    ds_in = ds.sel(time=slice('1980-01-01','2014-12-31')).mean(dim='time')*kgs_to_molyr\n",
        "    dsrm = regridder(ds_in).compute()\n",
        "    rm_his_dict[name] = dsrm"
      ],
      "execution_count": 0,
      "outputs": []
    },
    {
      "cell_type": "code",
      "metadata": {
        "id": "GFtUAoTtn6NH",
        "colab_type": "code",
        "colab": {}
      },
      "source": [
        ""
      ],
      "execution_count": 0,
      "outputs": []
    },
    {
      "cell_type": "code",
      "metadata": {
        "id": "pMVDRTXuTYuT",
        "colab_type": "code",
        "colab": {}
      },
      "source": [
        "fig, axa = plt.subplots(3,3, figsize=(12,12))\n",
        "for i, (name, ds) in enumerate(rm_his_dict.items()):\n",
        "    print(name)\n",
        "    ax=axa.flat[i]\n",
        "    ds['fgco2'].plot(ax=ax, cmap='RdBu_r')\n",
        "    ax.set_title(name)\n",
        "    "
      ],
      "execution_count": 0,
      "outputs": []
    },
    {
      "cell_type": "code",
      "metadata": {
        "id": "UlBzUi1rN_Ox",
        "colab_type": "code",
        "colab": {}
      },
      "source": [
        "axa.flat[0]"
      ],
      "execution_count": 0,
      "outputs": []
    },
    {
      "cell_type": "markdown",
      "metadata": {
        "id": "S2nWvUoyN_n3",
        "colab_type": "text"
      },
      "source": [
        "**OLD attempt**"
      ]
    },
    {
      "cell_type": "code",
      "metadata": {
        "id": "g3GhuY0QGs4X",
        "colab_type": "code",
        "colab": {}
      },
      "source": [
        "df = pd.read_csv('https://storage.googleapis.com/cmip6/cmip6-zarr-consolidated-stores.csv')\n",
        "\n",
        "experiment_id = \"historical\" \n",
        "variable_id = 'fgco2' \n",
        "table_id = 'Omon' \n",
        "member_id = 'r1i1p1f1' \n",
        "\n",
        "canesm5_query = df.query(\"activity_id=='CMIP' & \"\\\n",
        "                         f\"table_id == '{table_id}' & \"\\\n",
        "                         f\"variable_id == '{variable_id}' & \"\\\n",
        "                         f\"experiment_id == '{experiment_id}' & \"\\\n",
        "                         f\"member_id == '{member_id}' & \"\\\n",
        "                         f\"source_id == 'CanESM5'\" \n",
        "                        )\n",
        "\n",
        "# this only needs to be created once\n",
        "gcs = gcsfs.GCSFileSystem(token='anon')\n",
        "\n",
        "# stack the data into an xarray\n",
        "canesm5 = []\n",
        "for zstore in canesm5_query.zstore.values:\n",
        "  mapper = gcs.get_mapper(zstore)\n",
        "  temp = xr.open_zarr(mapper, consolidated=True)\n",
        "  member_id = zstore.split('/')[7]\n",
        "  temp['member_id'] = member_id\n",
        "  canesm5.append(temp)\n",
        "\n",
        "df = xr.concat(canesm5, dim='member_id')"
      ],
      "execution_count": 0,
      "outputs": []
    },
    {
      "cell_type": "code",
      "metadata": {
        "id": "_tsvOjMVNrrG",
        "colab_type": "code",
        "colab": {}
      },
      "source": [
        "df"
      ],
      "execution_count": 0,
      "outputs": []
    },
    {
      "cell_type": "code",
      "metadata": {
        "id": "KLMwgAiwGwJ8",
        "colab_type": "code",
        "colab": {}
      },
      "source": [
        "fgco2_lim= canesm5.sel(time=slice('1980-01-01', '1985-12-31')).mean(dim='time')['fgco2']"
      ],
      "execution_count": 0,
      "outputs": []
    },
    {
      "cell_type": "code",
      "metadata": {
        "id": "FOKiBdsdGywW",
        "colab_type": "code",
        "colab": {}
      },
      "source": [
        "fgco2_lim.mean(dim='member_id').plot()"
      ],
      "execution_count": 0,
      "outputs": []
    },
    {
      "cell_type": "code",
      "metadata": {
        "id": "kFeKz1YfG0Pk",
        "colab_type": "code",
        "colab": {}
      },
      "source": [
        "fgco2_lim.std(dim='member_id').plot(vmin=0, vmax=1e-9, cmap='Reds')"
      ],
      "execution_count": 0,
      "outputs": []
    },
    {
      "cell_type": "code",
      "metadata": {
        "id": "5cJbWvk9HgQH",
        "colab_type": "code",
        "colab": {}
      },
      "source": [
        "fgco2_std= canesm5.sel(time=slice('1980-01-01', '1985-12-31')).std(dim='time')['fgco2'].mean(dim='member_id').compute()"
      ],
      "execution_count": 0,
      "outputs": []
    },
    {
      "cell_type": "code",
      "metadata": {
        "id": "kH9LGPegHiD5",
        "colab_type": "code",
        "colab": {}
      },
      "source": [
        "fgco2_std.plot(vmin=0, vmax=1e-9, cmap='Reds')"
      ],
      "execution_count": 0,
      "outputs": []
    },
    {
      "cell_type": "code",
      "metadata": {
        "id": "a8tFON2aIqdc",
        "colab_type": "code",
        "colab": {}
      },
      "source": [
        "fgco2_std_ann = canesm5.sel(time=slice('1980-01-01', '1985-12-31')).resample(time='A').mean().std(dim='time')['fgco2'].mean(dim='member_id').compute()"
      ],
      "execution_count": 0,
      "outputs": []
    },
    {
      "cell_type": "code",
      "metadata": {
        "id": "rGELf6kjI4TT",
        "colab_type": "code",
        "colab": {}
      },
      "source": [
        "fgco2_std_ann.plot(vmin=0, vmax=1e-9, cmap='Reds')"
      ],
      "execution_count": 0,
      "outputs": []
    }
  ]
}