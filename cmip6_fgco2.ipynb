{
  "nbformat": 4,
  "nbformat_minor": 0,
  "metadata": {
    "colab": {
      "name": "cmip6_fgco2.ipynb",
      "provenance": [],
      "authorship_tag": "ABX9TyN3s89PG0FjKNvwlj0kSO2Y"
    },
    "kernelspec": {
      "name": "python3",
      "display_name": "Python 3"
    }
  },
  "cells": [
    {
      "cell_type": "code",
      "metadata": {
        "id": "CqLC_dmYGY7I",
        "colab_type": "code",
        "outputId": "52d705d1-bea7-4ce9-9341-630297c64b15",
        "colab": {
          "base_uri": "https://localhost:8080/",
          "height": 384
        }
      },
      "source": [
        "#Environment setup\n",
        "! pip install --upgrade xarray zarr gcsfs cftime nc-time-axis bokeh intake-esm cmip6_preprocessing cartopy"
      ],
      "execution_count": 9,
      "outputs": [
        {
          "output_type": "stream",
          "text": [
            "Collecting xarray\n",
            "  Using cached https://files.pythonhosted.org/packages/e3/25/cc8ccc40d21638ae8514ce2aef1f1db3036e31c2adea797c7501302726fa/xarray-0.15.0-py3-none-any.whl\n",
            "Collecting zarr\n",
            "  Using cached https://files.pythonhosted.org/packages/a3/87/383d77399148ef0772da3472b513ecf143252e7c365c51b0f06714800366/zarr-2.4.0.tar.gz\n",
            "Collecting gcsfs\n",
            "  Using cached https://files.pythonhosted.org/packages/3e/9f/864a9ff497ed4ba12502c4037db8c66fde0049d9dd0388bd55b67e5c4249/gcsfs-0.6.0-py2.py3-none-any.whl\n",
            "Collecting cftime\n",
            "  Using cached https://files.pythonhosted.org/packages/53/35/e2fc52247871c51590d6660e684fdc619a93a29f40e3b64894bd4f8c9041/cftime-1.1.0-cp36-cp36m-manylinux1_x86_64.whl\n",
            "Collecting nc-time-axis\n",
            "  Using cached https://files.pythonhosted.org/packages/47/2b/4a0681fd7178caa106f5f480217b9381ba77f8f7c8c1e63e91b0fd2cc427/nc_time_axis-1.2.0-py3-none-any.whl\n",
            "Collecting bokeh\n",
            "  Using cached https://files.pythonhosted.org/packages/e0/a7/875aad223b211951a043bf7b0eddcecb8b2afd5131c08945ff07ac968c7f/bokeh-2.0.0.tar.gz\n",
            "Collecting intake-esm\n",
            "  Using cached https://files.pythonhosted.org/packages/07/84/76cffc7f36433b68f9ee9311df7746d98aa124a29659155256e9a626e18f/intake_esm-2019.12.13-py3-none-any.whl\n",
            "Collecting cmip6_preprocessing\n",
            "  Using cached https://files.pythonhosted.org/packages/57/80/46a153e4428fa65542e15be41c2e45a5680dc388ef5eb7b4185ed2bf092c/cmip6_preprocessing-0.1.2-py2.py3-none-any.whl\n",
            "Collecting cartopy\n",
            "  Using cached https://files.pythonhosted.org/packages/e5/92/fe8838fa8158931906dfc4f16c5c1436b3dd2daf83592645b179581403ad/Cartopy-0.17.0.tar.gz\n",
            "  Installing build dependencies ... \u001b[?25ldone\n",
            "\u001b[31mCommand \"python setup.py egg_info\" failed with error code 1 in /tmp/pip-install-qoe6isou/cartopy/\u001b[0m\n",
            "\u001b[?25h"
          ],
          "name": "stdout"
        }
      ]
    },
    {
      "cell_type": "code",
      "metadata": {
        "id": "vE-pWRY8cgZG",
        "colab_type": "code",
        "outputId": "618b394f-ddbf-4e1c-dde8-e26532534eeb",
        "colab": {
          "base_uri": "https://localhost:8080/",
          "height": 990
        }
      },
      "source": [
        "!wget https://repo.continuum.io/miniconda/Miniconda3-4.5.4-Linux-x86_64.sh\n",
        "!chmod +x Miniconda3-4.5.4-Linux-x86_64.sh\n",
        "!bash ./Miniconda3-4.5.4-Linux-x86_64.sh -b -f -p /usr/local"
      ],
      "execution_count": 2,
      "outputs": [
        {
          "output_type": "stream",
          "text": [
            "--2020-03-12 18:58:44--  https://repo.continuum.io/miniconda/Miniconda3-4.5.4-Linux-x86_64.sh\n",
            "Resolving repo.continuum.io (repo.continuum.io)... 104.18.201.79, 104.18.200.79, 2606:4700::6812:c84f, ...\n",
            "Connecting to repo.continuum.io (repo.continuum.io)|104.18.201.79|:443... connected.\n",
            "HTTP request sent, awaiting response... 200 OK\n",
            "Length: 58468498 (56M) [application/x-sh]\n",
            "Saving to: ‘Miniconda3-4.5.4-Linux-x86_64.sh’\n",
            "\n",
            "\r          Miniconda   0%[                    ]       0  --.-KB/s               \r         Miniconda3  47%[========>           ]  26.27M   107MB/s               \rMiniconda3-4.5.4-Li 100%[===================>]  55.76M   144MB/s    in 0.4s    \n",
            "\n",
            "2020-03-12 18:58:45 (144 MB/s) - ‘Miniconda3-4.5.4-Linux-x86_64.sh’ saved [58468498/58468498]\n",
            "\n",
            "PREFIX=/usr/local\n",
            "installing: python-3.6.5-hc3d631a_2 ...\n",
            "Python 3.6.5 :: Anaconda, Inc.\n",
            "installing: ca-certificates-2018.03.07-0 ...\n",
            "installing: conda-env-2.6.0-h36134e3_1 ...\n",
            "installing: libgcc-ng-7.2.0-hdf63c60_3 ...\n",
            "installing: libstdcxx-ng-7.2.0-hdf63c60_3 ...\n",
            "installing: libffi-3.2.1-hd88cf55_4 ...\n",
            "installing: ncurses-6.1-hf484d3e_0 ...\n",
            "installing: openssl-1.0.2o-h20670df_0 ...\n",
            "installing: tk-8.6.7-hc745277_3 ...\n",
            "installing: xz-5.2.4-h14c3975_4 ...\n",
            "installing: yaml-0.1.7-had09818_2 ...\n",
            "installing: zlib-1.2.11-ha838bed_2 ...\n",
            "installing: libedit-3.1.20170329-h6b74fdf_2 ...\n",
            "installing: readline-7.0-ha6073c6_4 ...\n",
            "installing: sqlite-3.23.1-he433501_0 ...\n",
            "installing: asn1crypto-0.24.0-py36_0 ...\n",
            "installing: certifi-2018.4.16-py36_0 ...\n",
            "installing: chardet-3.0.4-py36h0f667ec_1 ...\n",
            "installing: idna-2.6-py36h82fb2a8_1 ...\n",
            "installing: pycosat-0.6.3-py36h0a5515d_0 ...\n",
            "installing: pycparser-2.18-py36hf9f622e_1 ...\n",
            "installing: pysocks-1.6.8-py36_0 ...\n",
            "installing: ruamel_yaml-0.15.37-py36h14c3975_2 ...\n",
            "installing: six-1.11.0-py36h372c433_1 ...\n",
            "installing: cffi-1.11.5-py36h9745a5d_0 ...\n",
            "installing: setuptools-39.2.0-py36_0 ...\n",
            "installing: cryptography-2.2.2-py36h14c3975_0 ...\n",
            "installing: wheel-0.31.1-py36_0 ...\n",
            "installing: pip-10.0.1-py36_0 ...\n",
            "installing: pyopenssl-18.0.0-py36_0 ...\n",
            "installing: urllib3-1.22-py36hbe7ace6_0 ...\n",
            "installing: requests-2.18.4-py36he2e5f8d_1 ...\n",
            "installing: conda-4.5.4-py36_0 ...\n",
            "installation finished.\n",
            "WARNING:\n",
            "    You currently have a PYTHONPATH environment variable set. This may cause\n",
            "    unexpected behavior when running the Python interpreter in Miniconda3.\n",
            "    For best results, please verify that your PYTHONPATH only points to\n",
            "    directories of packages that are compatible with the Python interpreter\n",
            "    in Miniconda3: /usr/local\n"
          ],
          "name": "stdout"
        }
      ]
    },
    {
      "cell_type": "code",
      "metadata": {
        "id": "8CRYK9etf_-X",
        "colab_type": "code",
        "colab": {}
      },
      "source": [
        "import sys\n",
        "sys.path.append('/usr/local/lib/python3.8/site-packages')"
      ],
      "execution_count": 0,
      "outputs": []
    },
    {
      "cell_type": "code",
      "metadata": {
        "id": "_Ki2P6IWGUNp",
        "colab_type": "code",
        "outputId": "77c6c561-72f4-45a0-c2e3-34d53abd3272",
        "colab": {
          "base_uri": "https://localhost:8080/",
          "height": 393
        }
      },
      "source": [
        "import numpy as np\n",
        "import pandas as pd\n",
        "import xarray as xr\n",
        "import warnings\n",
        "import matplotlib.pyplot as plt\n",
        "import intake\n",
        "import xesmf as xe\n",
        "%matplotlib inline\n",
        "import cartopy.crs as ccrs"
      ],
      "execution_count": 8,
      "outputs": [
        {
          "output_type": "error",
          "ename": "ModuleNotFoundError",
          "evalue": "ignored",
          "traceback": [
            "\u001b[0;31m---------------------------------------------------------------------------\u001b[0m",
            "\u001b[0;31mModuleNotFoundError\u001b[0m                       Traceback (most recent call last)",
            "\u001b[0;32m<ipython-input-8-e4f87775d46a>\u001b[0m in \u001b[0;36m<module>\u001b[0;34m()\u001b[0m\n\u001b[1;32m      4\u001b[0m \u001b[0;32mimport\u001b[0m \u001b[0mwarnings\u001b[0m\u001b[0;34m\u001b[0m\u001b[0;34m\u001b[0m\u001b[0m\n\u001b[1;32m      5\u001b[0m \u001b[0;32mimport\u001b[0m \u001b[0mmatplotlib\u001b[0m\u001b[0;34m.\u001b[0m\u001b[0mpyplot\u001b[0m \u001b[0;32mas\u001b[0m \u001b[0mplt\u001b[0m\u001b[0;34m\u001b[0m\u001b[0;34m\u001b[0m\u001b[0m\n\u001b[0;32m----> 6\u001b[0;31m \u001b[0;32mimport\u001b[0m \u001b[0mintake\u001b[0m\u001b[0;34m\u001b[0m\u001b[0;34m\u001b[0m\u001b[0m\n\u001b[0m\u001b[1;32m      7\u001b[0m \u001b[0;32mimport\u001b[0m \u001b[0mxesmf\u001b[0m \u001b[0;32mas\u001b[0m \u001b[0mxe\u001b[0m\u001b[0;34m\u001b[0m\u001b[0;34m\u001b[0m\u001b[0m\n\u001b[1;32m      8\u001b[0m \u001b[0mget_ipython\u001b[0m\u001b[0;34m(\u001b[0m\u001b[0;34m)\u001b[0m\u001b[0;34m.\u001b[0m\u001b[0mmagic\u001b[0m\u001b[0;34m(\u001b[0m\u001b[0;34m'matplotlib inline'\u001b[0m\u001b[0;34m)\u001b[0m\u001b[0;34m\u001b[0m\u001b[0;34m\u001b[0m\u001b[0m\n",
            "\u001b[0;31mModuleNotFoundError\u001b[0m: No module named 'intake'",
            "",
            "\u001b[0;31m---------------------------------------------------------------------------\u001b[0;32m\nNOTE: If your import is failing due to a missing package, you can\nmanually install dependencies using either !pip or !apt.\n\nTo view examples of installing some common dependencies, click the\n\"Open Examples\" button below.\n\u001b[0;31m---------------------------------------------------------------------------\u001b[0m\n"
          ]
        }
      ]
    },
    {
      "cell_type": "code",
      "metadata": {
        "id": "bH1MV5frJFXW",
        "colab_type": "code",
        "colab": {}
      },
      "source": [
        "cat_url = \"https://storage.googleapis.com/cmip6/pangeo-cmip6.json\"\n",
        "col = intake.open_esm_datastore(cat_url)\n",
        "col"
      ],
      "execution_count": 0,
      "outputs": []
    },
    {
      "cell_type": "code",
      "metadata": {
        "id": "XcGiU3vXRryi",
        "colab_type": "code",
        "colab": {}
      },
      "source": [
        "from cmip6_preprocessing.preprocessing import combined_preprocessing, replace_x_y_nominal_lat_lon, rename_cmip6\n",
        "\n",
        "def wrapper(ds):\n",
        "    ds = ds.copy()\n",
        "    ds = rename_cmip6(ds)\n",
        "    ds = replace_x_y_nominal_lat_lon(ds)\n",
        "    return ds"
      ],
      "execution_count": 0,
      "outputs": []
    },
    {
      "cell_type": "code",
      "metadata": {
        "id": "l1tXYUI8KjE0",
        "colab_type": "code",
        "colab": {}
      },
      "source": [
        "\n",
        "# lets load a bunch more models this time\n",
        "# load a few models to illustrate the problem\n",
        "query = dict(experiment_id=['ssp585', 'historical'], table_id='Omon', \n",
        "             variable_id='fgco2', grid_label=['gn'], member_id=['r1i1p1f1', 'r1i1p2f1'])\n",
        "cat = col.search(**query)\n",
        "\n",
        "print(cat.df['source_id'].unique())\n",
        "dset_dict = cat.to_dataset_dict(zarr_kwargs={'consolidated': True}, preprocess=combined_preprocessing)"
      ],
      "execution_count": 0,
      "outputs": []
    },
    {
      "cell_type": "code",
      "metadata": {
        "id": "YJPxP-FhWHZt",
        "colab_type": "code",
        "colab": {}
      },
      "source": [
        "ssp585_dict = {} # dictionary that will hold spliced DataArrays\n",
        "for name, ds in dset_dict.items(): # Loop through dictionary\n",
        "    model_name = name.split(\".\")[2]\n",
        "    if ('ssp585' not in name): continue\n",
        "    ssp585_dict[model_name] = ds\n",
        "\n",
        "his_dict = {} # dictionary that will hold spliced DataArrays\n",
        "for name, ds in dset_dict.items(): # Loop through dictionary\n",
        "    model_name = name.split(\".\")[2]\n",
        "    if ('historical' not in name) or (model_name not in ssp585_dict.keys()): continue\n",
        "    his_dict[model_name] = ds"
      ],
      "execution_count": 0,
      "outputs": []
    },
    {
      "cell_type": "code",
      "metadata": {
        "id": "hyLjWvK_WeNs",
        "colab_type": "code",
        "colab": {}
      },
      "source": [
        "print(his_dict.keys())\n",
        "print(ssp585_dict.keys())"
      ],
      "execution_count": 0,
      "outputs": []
    },
    {
      "cell_type": "code",
      "metadata": {
        "id": "VEgT1gopi6Bl",
        "colab_type": "code",
        "colab": {}
      },
      "source": [
        "# setup a common 1 degree global grid \n",
        "ds_out = xe.util.grid_global(1, 1)\n",
        "ds_out "
      ],
      "execution_count": 0,
      "outputs": []
    },
    {
      "cell_type": "code",
      "metadata": {
        "id": "heuyP4aY1Ajs",
        "colab_type": "code",
        "colab": {}
      },
      "source": [
        "kgs_to_molyr=1000./12.*3600*24*365"
      ],
      "execution_count": 0,
      "outputs": []
    },
    {
      "cell_type": "code",
      "metadata": {
        "id": "L-qmxxI_ngeg",
        "colab_type": "code",
        "colab": {}
      },
      "source": [
        " rm_his_dict = {}\n",
        "for name, ds in his_dict.items():\n",
        "    print(name)\n",
        "    scale=1 if name != 'BCC-CSM2-MR' else -1 *12/44\n",
        "    regridder = xe.Regridder(ds, ds_out, 'bilinear', ignore_degenerate=True)\n",
        "    ds_in = ds.sel(time=slice('1980-01-01','2014-12-31')).mean(dim='time')*kgs_to_molyr*scale\n",
        "    dsrm = regridder(ds_in).compute()\n",
        "    rm_his_dict[name] = dsrm"
      ],
      "execution_count": 0,
      "outputs": []
    },
    {
      "cell_type": "code",
      "metadata": {
        "id": "xNWpAAeYMVsS",
        "colab_type": "code",
        "colab": {}
      },
      "source": [
        "rm_ssp585_dict = {}\n",
        "for name, ds in ssp585_dict.items():\n",
        "    print(name)\n",
        "    scale=1 if name != 'BCC-CSM2-MR' else -1 *12/44.\n",
        "    regridder = xe.Regridder(ds, ds_out, 'bilinear', ignore_degenerate=True)\n",
        "    ds_in = ds.sel(time=slice('2045-01-01','2054-12-31')).mean(dim='time')*kgs_to_molyr*scale\n",
        "    dsrm = regridder(ds_in).compute()\n",
        "    rm_ssp585_dict[name] = dsrm"
      ],
      "execution_count": 0,
      "outputs": []
    },
    {
      "cell_type": "code",
      "metadata": {
        "id": "pMVDRTXuTYuT",
        "colab_type": "code",
        "colab": {}
      },
      "source": [
        "vmin=-4\n",
        "vmax=4\n",
        "fig, axa = plt.subplots(3,3, figsize=(12,12))\n",
        "for i, (name, ds) in enumerate(rm_his_dict.items()):\n",
        "    print(name)\n",
        "    scale=1\n",
        "    ax=axa.flat[i]\n",
        "    (ds['fgco2'].isel(member_id=0)).plot(ax=ax, cmap='RdBu_r', vmin=vmin, vmax=vmax)\n",
        "    ax.set_title(name)\n",
        "    "
      ],
      "execution_count": 0,
      "outputs": []
    },
    {
      "cell_type": "code",
      "metadata": {
        "id": "fHzGk3roMNpZ",
        "colab_type": "code",
        "colab": {}
      },
      "source": [
        "fig, axa = plt.subplots(3,3, figsize=(12,12))\n",
        "for i, (name, ds) in enumerate(rm_ssp585_dict.items()):\n",
        "    print(name)\n",
        "    scale=1\n",
        "    ax=axa.flat[i]\n",
        "    (ds['fgco2'].isel(member_id=0)).plot(ax=ax, cmap='RdBu_r', vmin=vmin, vmax=vmax)\n",
        "    ax.set_title(name)"
      ],
      "execution_count": 0,
      "outputs": []
    },
    {
      "cell_type": "code",
      "metadata": {
        "id": "t4l-_0WvM0m9",
        "colab_type": "code",
        "colab": {}
      },
      "source": [
        "meanf = rm_ssp585_dict['BCC-CSM2-MR']['fgco2'].values*0.0\n",
        "\n",
        "fig, axa = plt.subplots(3,3, figsize=(12,12))\n",
        "for i, (name, ds) in enumerate(rm_ssp585_dict.items()):\n",
        "    print(name)\n",
        "    ax=axa.flat[i]\n",
        "    (ds['fgco2'].isel(member_id=0) - rm_his_dict[name]['fgco2'].isel(member_id=0)).plot(ax=ax, cmap='RdBu_r', vmin=vmin, vmax=vmax)\n",
        "    ax.set_title(name)\n",
        "    if name != 'BCC-CSM2-MR':\n",
        "        meanf = meanf + (ds['fgco2'].isel(member_id=0) - rm_his_dict[name]['fgco2'].isel(member_id=0)).compute().values\n",
        "\n",
        "meanf=meanf/(i-1)\n",
        "ax = axa.flat[i+1]\n",
        "ax.pcolormesh(meanf.squeeze(), cmap='RdBu_r', vmin=vmin, vmax=vmax)    "
      ],
      "execution_count": 0,
      "outputs": []
    },
    {
      "cell_type": "code",
      "metadata": {
        "id": "fLHbwnwzTnLD",
        "colab_type": "code",
        "colab": {}
      },
      "source": [
        "fig = plt.figure(figsize=(12,12))\n",
        "plt.pcolormesh(meanf.squeeze(), cmap='RdBu_r', vmin=vmin, vmax=vmax)  \n",
        "plt.xlim([0,100])\n",
        "plt.ylim([100,160])"
      ],
      "execution_count": 0,
      "outputs": []
    },
    {
      "cell_type": "code",
      "metadata": {
        "id": "9ri3k_TSQxiI",
        "colab_type": "code",
        "colab": {}
      },
      "source": [
        "fig = plt.figure(figsize=(18,12))\n",
        "\n",
        "vmin=-5\n",
        "vmax=5\n",
        "ncol=15\n",
        "\n",
        "axo = plt.subplot(1, 2, 1, projection=ccrs.Robinson(central_longitude=260))\n",
        "\n",
        "cbl = axo.pcolormesh(fgco2_obs.lon.values, fgco2_obs.lat.values, fgco2_obs.mean(dim='time').values*1000./12*sec2yr, cmap=plt.cm.get_cmap('RdBu_r', ncol), \n",
        "                    vmin=vmin, vmax=vmax, rasterized=True,transform=ccrs.PlateCarree())\n",
        "\n",
        "divider = make_axes_locatable(axo)\n",
        "ax_cb = divider.append_axes('bottom', size=\"5%\", pad=0.1, axes_class=plt.Axes)\n",
        "\n",
        "_=plt.colorbar(cbl, cax=ax_cb, label=r'Ocean carbon flux (mol m$^{-2}$ yr$^{-1}$)', orientation='horizontal')\n",
        "axo.set_title('Carbon flux climatology:\\n Obs. (Landschutzer 2015))')\n",
        "axo.coastlines()\n",
        "\n",
        "\n",
        "axr = plt.subplot(1, 2, 2, projection=ccrs.Robinson(central_longitude=260))\n",
        "\n",
        "cbr = axr.pcolormesh(fgco2_obs.lon.values, fgco2_obs.lat.values, dsc.mean(axis=0)*1000./12*sec2yr, \n",
        "                     cmap=plt.cm.get_cmap('RdBu_r', ncol), vmin=vmin, vmax=vmax, rasterized=True,transform=ccrs.PlateCarree())\n",
        "\n",
        "\n",
        "axr.set_title('Carbon flux climatology:\\n CMIP5 / historical (1980-2005)')\n",
        "axr.coastlines()\n",
        "\n",
        "plt.savefig('global_ocean_carbon_flux_cmip5-obs.png', bbox_inches='tight', dpi=300)"
      ],
      "execution_count": 0,
      "outputs": []
    }
  ]
}